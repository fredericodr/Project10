{
 "cells": [
  {
   "cell_type": "code",
   "execution_count": null,
   "id": "542bfdbc",
   "metadata": {},
   "outputs": [],
   "source": [
    "def summing_values(value1, value2):\n",
    "    return value1 + value2"
   ]
  }
 ],
 "metadata": {
  "language_info": {
   "name": "python"
  }
 },
 "nbformat": 4,
 "nbformat_minor": 5
}

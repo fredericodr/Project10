{
 "cells": [
  {
   "cell_type": "code",
   "execution_count": null,
   "id": "542bfdbc",
   "metadata": {},
   "outputs": [],
   "source": [
    "def summing_values(value1, value2):\n",
    "    return value1 + value2"
   ]
  },
  {
   "cell_type": "code",
   "execution_count": null,
   "id": "9d7fd9ad",
   "metadata": {},
   "outputs": [],
   "source": [
    "def subtracting(value1, value2):\n",
    "    return value1 - value2"
   ]
  }
 ],
 "metadata": {
  "language_info": {
   "name": "python"
  }
 },
 "nbformat": 4,
 "nbformat_minor": 5
}
